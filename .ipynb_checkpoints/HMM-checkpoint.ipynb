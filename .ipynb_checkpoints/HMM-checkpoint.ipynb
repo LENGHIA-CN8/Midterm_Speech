{
 "cells": [
  {
   "cell_type": "code",
   "execution_count": 1,
   "id": "3db27f8d",
   "metadata": {},
   "outputs": [],
   "source": [
    "import librosa\n",
    "from hmmlearn import hmm\n",
    "import os \n",
    "import numpy as np\n",
    "from sklearn.model_selection import train_test_split\n",
    "from tqdm import tqdm"
   ]
  },
  {
   "cell_type": "code",
   "execution_count": 8,
   "id": "fd740d79",
   "metadata": {},
   "outputs": [],
   "source": [
    "path_file = \"./Dataset/{}/{}/\"\n",
    "commands = [\"a\", 'b', 'ban','nhay','xuong','len','phai','trai']\n",
    "name = [\"nghia\",\"khiem\",\"huy\",\"hoang\",\"long\"]"
   ]
  },
  {
   "cell_type": "code",
   "execution_count": 13,
   "id": "e592616f",
   "metadata": {},
   "outputs": [],
   "source": [
    "# os.listdir(path_file.format('nghia','a'))"
   ]
  },
  {
   "cell_type": "code",
   "execution_count": 22,
   "id": "562942e2",
   "metadata": {},
   "outputs": [],
   "source": [
    "def prepare_data():\n",
    "    all_file_path = []\n",
    "    for n in name:\n",
    "        for c in commands:\n",
    "            all_files_name = os.listdir(path_file.format(n,c))\n",
    "            all_file_path += [(path_file.format(n,c) + num, c)  for num in all_files_name if '.wav' in num]\n",
    "    train, test = train_test_split(all_file_path, test_size=0.2, random_state=6)\n",
    "    \n",
    "    return train, test"
   ]
  },
  {
   "cell_type": "code",
   "execution_count": 23,
   "id": "641c3291",
   "metadata": {},
   "outputs": [],
   "source": [
    "train_data, test_data = prepare_data()"
   ]
  },
  {
   "cell_type": "code",
   "execution_count": 24,
   "id": "c7688a40",
   "metadata": {},
   "outputs": [
    {
     "data": {
      "text/plain": [
       "[('./Dataset/huy/xuong/file57.wav', 'xuong'),\n",
       " ('./Dataset/huy/a/file12.wav', 'a'),\n",
       " ('./Dataset/nghia/trai/file80.wav', 'trai'),\n",
       " ('./Dataset/nghia/xuong/file40.wav', 'xuong'),\n",
       " ('./Dataset/huy/b/file62.wav', 'b'),\n",
       " ('./Dataset/long/xuong/file62.wav', 'xuong'),\n",
       " ('./Dataset/hoang/ban/file1.wav', 'ban'),\n",
       " ('./Dataset/long/phai/file11.wav', 'phai'),\n",
       " ('./Dataset/long/len/file121.wav', 'len'),\n",
       " ('./Dataset/huy/phai/file50.wav', 'phai')]"
      ]
     },
     "execution_count": 24,
     "metadata": {},
     "output_type": "execute_result"
    }
   ],
   "source": [
    "train_data[:10]"
   ]
  },
  {
   "cell_type": "code",
   "execution_count": 25,
   "id": "b2e9a942",
   "metadata": {},
   "outputs": [
    {
     "name": "stdout",
     "output_type": "stream",
     "text": [
      "907\n",
      "3624\n"
     ]
    }
   ],
   "source": [
    "print(len(test_data))\n",
    "print(len(train_data))"
   ]
  },
  {
   "cell_type": "code",
   "execution_count": 26,
   "id": "91b92b29",
   "metadata": {},
   "outputs": [],
   "source": [
    "train_loader =  {\n",
    "    'a': [],\n",
    "    'b': [],\n",
    "    'len': [],\n",
    "    'xuong': [],\n",
    "    'trai': [],\n",
    "    'phai': [],\n",
    "    'ban': [],\n",
    "    'nhay': []\n",
    "}\n",
    "\n",
    "for tup in train_data:\n",
    "  train_loader[tup[1]].append(tup[0])"
   ]
  },
  {
   "cell_type": "code",
   "execution_count": 29,
   "id": "f56411af",
   "metadata": {},
   "outputs": [
    {
     "data": {
      "text/plain": [
       "['./Dataset/huy/a/file12.wav',\n",
       " './Dataset/long/a/file84.wav',\n",
       " './Dataset/nghia/a/file48.wav',\n",
       " './Dataset/huy/a/file88.wav',\n",
       " './Dataset/huy/a/file118.wav',\n",
       " './Dataset/khiem/a/file115.wav',\n",
       " './Dataset/long/a/file70.wav',\n",
       " './Dataset/long/a/file104.wav',\n",
       " './Dataset/nghia/a/file4.wav',\n",
       " './Dataset/khiem/a/file20.wav']"
      ]
     },
     "execution_count": 29,
     "metadata": {},
     "output_type": "execute_result"
    }
   ],
   "source": [
    "train_loader['a'][:10]"
   ]
  },
  {
   "cell_type": "code",
   "execution_count": 30,
   "id": "628ffd02",
   "metadata": {},
   "outputs": [],
   "source": [
    "def mfcc(wav_path, delta=2):\n",
    "    \"\"\"\n",
    "    Read .wav files and calculate MFCC\n",
    "    :param wav_path: path of audio file\n",
    "    :param delta: derivative order, default order is 2\n",
    "    :return: mfcc\n",
    "    \"\"\"\n",
    "    y, sr = librosa.load(wav_path)\n",
    "    # MEL frequency cepstrum coefficient\n",
    "    mfcc_feat = librosa.feature.mfcc(y = y, sr = sr, n_mfcc = 13)\n",
    "    ans = [mfcc_feat]\n",
    "    # Calculate the 1st derivative\n",
    "    if delta >= 1:\n",
    "        mfcc_delta1 = librosa.feature.delta(mfcc_feat, order = 1, mode ='nearest')\n",
    "        ans.append(mfcc_delta1)\n",
    "    # Calculate the 2nd derivative\n",
    "    if delta >= 2:\n",
    "        mfcc_delta2 = librosa.feature.delta(mfcc_feat, order = 2, mode ='nearest')\n",
    "        ans.append(mfcc_delta2)\n",
    "\n",
    "    return np.transpose(np.concatenate(ans, axis = 0),[1,0])"
   ]
  },
  {
   "cell_type": "code",
   "execution_count": 31,
   "id": "755e33ef",
   "metadata": {},
   "outputs": [],
   "source": [
    "def train_model_hmm(train_files):\n",
    "#     train_files = [x for x in os.listdir(train_dir) if x.endswith('.wav')]\n",
    "    X = np.array([])\n",
    "    for file_name in train_files:\n",
    "#         file_path = os.path.join(train_dir, file_name)\n",
    "        try:\n",
    "            features_mfcc = mfcc(file_name)\n",
    "            if len(X) == 0:\n",
    "                X = features_mfcc\n",
    "            else:\n",
    "                try:\n",
    "                    X = np.append(X, features_mfcc, axis=0)\n",
    "                except:\n",
    "                    pass\n",
    "        except:\n",
    "            print(file_path)\n",
    "            pass\n",
    "    model = hmm.GaussianHMM(n_components=4, covariance_type='diag', n_iter=1800)\n",
    "    # fit hmm model\n",
    "    np.seterr(all='ignore')\n",
    "    model.fit(X)\n",
    "    return model"
   ]
  },
  {
   "cell_type": "code",
   "execution_count": 41,
   "id": "32218dbf",
   "metadata": {},
   "outputs": [
    {
     "name": "stdout",
     "output_type": "stream",
     "text": [
      "['./Dataset/huy/a/file12.wav', './Dataset/long/a/file84.wav', './Dataset/nghia/a/file48.wav', './Dataset/huy/a/file88.wav', './Dataset/huy/a/file118.wav', './Dataset/khiem/a/file115.wav', './Dataset/long/a/file70.wav', './Dataset/long/a/file104.wav', './Dataset/nghia/a/file4.wav', './Dataset/khiem/a/file20.wav']\n",
      "a\n",
      "['./Dataset/huy/b/file62.wav', './Dataset/nghia/b/file74.wav', './Dataset/hoang/b/file59.wav', './Dataset/khiem/b/file22.wav', './Dataset/khiem/b/file48.wav', './Dataset/nghia/b/file76.wav', './Dataset/long/b/file76.wav', './Dataset/long/b/file22.wav', './Dataset/long/b/file106.wav', './Dataset/khiem/b/file130.wav']\n",
      "b\n",
      "['./Dataset/long/len/file121.wav', './Dataset/long/len/file5.wav', './Dataset/huy/len/file60.wav', './Dataset/hoang/len/file43.wav', './Dataset/khiem/len/file13.wav', './Dataset/khiem/len/file0.wav', './Dataset/long/len/file66.wav', './Dataset/khiem/len/file124.wav', './Dataset/long/len/file109.wav', './Dataset/huy/len/file16.wav']\n",
      "len\n",
      "['./Dataset/huy/xuong/file57.wav', './Dataset/nghia/xuong/file40.wav', './Dataset/long/xuong/file62.wav', './Dataset/long/xuong/file7.wav', './Dataset/hoang/xuong/file40.wav', './Dataset/long/xuong/file31.wav', './Dataset/hoang/xuong/file101.wav', './Dataset/hoang/xuong/file84.wav', './Dataset/huy/xuong/file86.wav', './Dataset/long/xuong/file18.wav']\n",
      "xuong\n",
      "['./Dataset/nghia/trai/file80.wav', './Dataset/huy/trai/file115.wav', './Dataset/hoang/trai/file59.wav', './Dataset/long/trai/file78.wav', './Dataset/hoang/trai/file71.wav', './Dataset/nghia/trai/file29.wav', './Dataset/hoang/trai/file45.wav', './Dataset/khiem/trai/file65.wav', './Dataset/nghia/trai/file16.wav', './Dataset/huy/trai/file105.wav']\n",
      "trai\n",
      "['./Dataset/long/phai/file11.wav', './Dataset/huy/phai/file50.wav', './Dataset/long/phai/file25.wav', './Dataset/khiem/phai/file67.wav', './Dataset/khiem/phai/file82.wav', './Dataset/nghia/phai/file18.wav', './Dataset/nghia/phai/file31.wav', './Dataset/long/phai/file96.wav', './Dataset/nghia/phai/file56.wav', './Dataset/long/phai/file42.wav']\n",
      "phai\n",
      "['./Dataset/hoang/ban/file1.wav', './Dataset/hoang/ban/file9.wav', './Dataset/long/ban/file14.wav', './Dataset/khiem/ban/file90.wav', './Dataset/huy/ban/file73.wav', './Dataset/khiem/ban/file102.wav', './Dataset/khiem/ban/file117.wav', './Dataset/khiem/ban/file16.wav', './Dataset/hoang/ban/file80.wav', './Dataset/long/ban/file8.wav']\n",
      "ban\n",
      "['./Dataset/nghia/nhay/file65.wav', './Dataset/nghia/nhay/file48.wav', './Dataset/hoang/nhay/file34.wav', './Dataset/khiem/nhay/file25.wav', './Dataset/long/nhay/file79.wav', './Dataset/long/nhay/file124.wav', './Dataset/hoang/nhay/file70.wav', './Dataset/huy/nhay/file99.wav', './Dataset/khiem/nhay/file105.wav', './Dataset/khiem/nhay/file58.wav']\n",
      "nhay\n"
     ]
    }
   ],
   "source": [
    "# mỗi nhãn tạo một model \n",
    "hmm_models = []\n",
    "for lab, wav_path_list in train_loader.items():\n",
    "    print(wav_path_list[:10])\n",
    "    label = label\n",
    "    print(lab)\n",
    "    hmm_models.append((train_model_hmm(wav_path_list), label))"
   ]
  },
  {
   "cell_type": "code",
   "execution_count": 42,
   "id": "d0815067",
   "metadata": {},
   "outputs": [
    {
     "data": {
      "text/plain": [
       "8"
      ]
     },
     "execution_count": 42,
     "metadata": {},
     "output_type": "execute_result"
    }
   ],
   "source": [
    "len(hmm_models)"
   ]
  },
  {
   "cell_type": "code",
   "execution_count": 43,
   "id": "8f493266",
   "metadata": {},
   "outputs": [],
   "source": [
    "def predict_hmm(hmm_models, test_file):\n",
    "    features_mfcc_test = mfcc(test_file)\n",
    "    max_score = -float('inf')\n",
    "    predicted_label = \"\"\n",
    "    for item in hmm_models:\n",
    "        model, label = item\n",
    "        score = model.score(features_mfcc_test)\n",
    "        if score > max_score:\n",
    "            max_score = score\n",
    "            predicted_label = label\n",
    "    return predicted_label"
   ]
  },
  {
   "cell_type": "code",
   "execution_count": 44,
   "id": "51aacaa5",
   "metadata": {},
   "outputs": [],
   "source": [
    "# test_paths = []\n",
    "# for path in os.listdir(input_folder):\n",
    "#     label = path\n",
    "#     arr = os.listdir(input_folder+path)\n",
    "#     test_arr = np.random.choice(arr,10)\n",
    "#     for test_file in test_arr:\n",
    "#         test_paths.append({\n",
    "#             \"test_path\" : input_folder+path+\"\\\\\"+test_file,\n",
    "#             \"label\": label})"
   ]
  },
  {
   "cell_type": "code",
   "execution_count": 45,
   "id": "667f1d8f",
   "metadata": {},
   "outputs": [
    {
     "name": "stderr",
     "output_type": "stream",
     "text": [
      "100%|██████████| 10/10 [00:00<00:00, 26.29it/s]\n"
     ]
    }
   ],
   "source": [
    "predict_true = 0\n",
    "for test in tqdm(test_data[:10]):\n",
    "    predict_label = predict_hmm(hmm_models,test[0])\n",
    "    if predict_label == test[1]:\n",
    "        print('ok')\n",
    "        predict_true +=1"
   ]
  },
  {
   "cell_type": "code",
   "execution_count": 46,
   "id": "bde2d788",
   "metadata": {},
   "outputs": [
    {
     "data": {
      "text/plain": [
       "0.0"
      ]
     },
     "execution_count": 46,
     "metadata": {},
     "output_type": "execute_result"
    }
   ],
   "source": [
    "predict_true/len(test_data)"
   ]
  },
  {
   "cell_type": "code",
   "execution_count": null,
   "id": "a0ecf072",
   "metadata": {},
   "outputs": [],
   "source": []
  }
 ],
 "metadata": {
  "kernelspec": {
   "display_name": "Python 3",
   "language": "python",
   "name": "python3"
  },
  "language_info": {
   "codemirror_mode": {
    "name": "ipython",
    "version": 3
   },
   "file_extension": ".py",
   "mimetype": "text/x-python",
   "name": "python",
   "nbconvert_exporter": "python",
   "pygments_lexer": "ipython3",
   "version": "3.7.10"
  }
 },
 "nbformat": 4,
 "nbformat_minor": 5
}
