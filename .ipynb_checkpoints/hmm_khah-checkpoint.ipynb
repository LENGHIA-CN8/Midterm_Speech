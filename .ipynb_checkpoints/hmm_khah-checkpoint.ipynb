{
 "cells": [
  {
   "cell_type": "code",
   "execution_count": null,
   "metadata": {
    "colab": {
     "base_uri": "https://localhost:8080/"
    },
    "id": "_RLgkwu1WJTk",
    "outputId": "66b7493d-c5d1-4cd6-b4f5-635ed883b8fe"
   },
   "outputs": [
    {
     "name": "stdout",
     "output_type": "stream",
     "text": [
      "Collecting hmmlearn\n",
      "  Downloading hmmlearn-0.2.7-cp37-cp37m-manylinux_2_12_x86_64.manylinux2010_x86_64.whl (129 kB)\n",
      "\u001b[?25l\r",
      "\u001b[K     |██▌                             | 10 kB 28.1 MB/s eta 0:00:01\r",
      "\u001b[K     |█████                           | 20 kB 33.4 MB/s eta 0:00:01\r",
      "\u001b[K     |███████▋                        | 30 kB 39.4 MB/s eta 0:00:01\r",
      "\u001b[K     |██████████                      | 40 kB 23.0 MB/s eta 0:00:01\r",
      "\u001b[K     |████████████▋                   | 51 kB 11.6 MB/s eta 0:00:01\r",
      "\u001b[K     |███████████████▏                | 61 kB 13.2 MB/s eta 0:00:01\r",
      "\u001b[K     |█████████████████▊              | 71 kB 10.4 MB/s eta 0:00:01\r",
      "\u001b[K     |████████████████████▏           | 81 kB 11.3 MB/s eta 0:00:01\r",
      "\u001b[K     |██████████████████████▊         | 92 kB 12.4 MB/s eta 0:00:01\r",
      "\u001b[K     |█████████████████████████▎      | 102 kB 11.4 MB/s eta 0:00:01\r",
      "\u001b[K     |███████████████████████████▊    | 112 kB 11.4 MB/s eta 0:00:01\r",
      "\u001b[K     |██████████████████████████████▎ | 122 kB 11.4 MB/s eta 0:00:01\r",
      "\u001b[K     |████████████████████████████████| 129 kB 11.4 MB/s \n",
      "\u001b[?25hRequirement already satisfied: numpy>=1.10 in /usr/local/lib/python3.7/dist-packages (from hmmlearn) (1.21.6)\n",
      "Requirement already satisfied: scipy>=0.19 in /usr/local/lib/python3.7/dist-packages (from hmmlearn) (1.4.1)\n",
      "Requirement already satisfied: scikit-learn>=0.16 in /usr/local/lib/python3.7/dist-packages (from hmmlearn) (1.0.2)\n",
      "Requirement already satisfied: threadpoolctl>=2.0.0 in /usr/local/lib/python3.7/dist-packages (from scikit-learn>=0.16->hmmlearn) (3.1.0)\n",
      "Requirement already satisfied: joblib>=0.11 in /usr/local/lib/python3.7/dist-packages (from scikit-learn>=0.16->hmmlearn) (1.1.0)\n",
      "Installing collected packages: hmmlearn\n",
      "Successfully installed hmmlearn-0.2.7\n"
     ]
    }
   ],
   "source": [
    "!pip install hmmlearn"
   ]
  },
  {
   "cell_type": "code",
   "execution_count": null,
   "metadata": {
    "id": "duz_2YYwQupf"
   },
   "outputs": [],
   "source": [
    "import librosa\n",
    "from hmmlearn import hmm\n",
    "import os \n",
    "import numpy as np\n",
    "from sklearn.model_selection import train_test_split\n",
    "from tqdm import tqdm"
   ]
  },
  {
   "cell_type": "code",
   "execution_count": null,
   "metadata": {
    "id": "i0FAwWFQEHh5"
   },
   "outputs": [],
   "source": [
    "all_files = []\n",
    "label = ['a', 'b', 'len', 'xuong', 'trai', 'phai', 'ban', 'nhay']\n",
    "root = '/content/drive/MyDrive/data'\n",
    "name = os.listdir(root)"
   ]
  },
  {
   "cell_type": "code",
   "execution_count": null,
   "metadata": {
    "id": "KaJztbK5GmlW"
   },
   "outputs": [],
   "source": [
    "for n in name:\n",
    "  command_list = os.listdir(os.path.join(root, n))\n",
    "  for c in command_list:\n",
    "    path = os.path.join(root, n, c)\n",
    "    all_files_name = os.listdir(path)\n",
    "    all_files += [(os.path.join(path, i), c) for i in all_files_name if '.wav' in i]"
   ]
  },
  {
   "cell_type": "code",
   "execution_count": null,
   "metadata": {
    "id": "UhrHNxqE2BoM"
   },
   "outputs": [],
   "source": [
    "train, test = train_test_split(all_files, test_size=0.2, random_state=6)"
   ]
  },
  {
   "cell_type": "code",
   "execution_count": null,
   "metadata": {
    "id": "kuAvxCDqH-94"
   },
   "outputs": [],
   "source": [
    "train_loader =  {\n",
    "    'a': [],\n",
    "    'b': [],\n",
    "    'len': [],\n",
    "    'xuong': [],\n",
    "    'trai': [],\n",
    "    'phai': [],\n",
    "    'ban': [],\n",
    "    'nhay': []\n",
    "}\n",
    "\n",
    "for i in train:\n",
    "  train_loader[i[1]].append(i[0])"
   ]
  },
  {
   "cell_type": "code",
   "execution_count": null,
   "metadata": {
    "id": "t7VP0sqXE1hL"
   },
   "outputs": [],
   "source": [
    "def get_mfcc_feature(wav):\n",
    "  y, sr = librosa.load(wav)\n",
    "  feature = librosa.feature.mfcc(y, sr)\n",
    "  delta1 = librosa.feature.delta(feature, order = 2, mode ='nearest')\n",
    "  ans = [feature]\n",
    "  ans.append(delta1)\n",
    "  temp = np.transpose(np.concatenate(ans, axis = 0),[1,0])\n",
    "  return temp"
   ]
  },
  {
   "cell_type": "code",
   "execution_count": null,
   "metadata": {
    "id": "zzJIEr3M8QrA"
   },
   "outputs": [],
   "source": [
    "train_loader['b']"
   ]
  },
  {
   "cell_type": "code",
   "execution_count": null,
   "metadata": {
    "colab": {
     "base_uri": "https://localhost:8080/"
    },
    "id": "qUekykhs873r",
    "outputId": "b1ec5a5b-7141-4d08-92ec-4f0e21696a24"
   },
   "outputs": [
    {
     "name": "stderr",
     "output_type": "stream",
     "text": [
      "100%|██████████| 1021/1021 [01:20<00:00, 12.66it/s]\n",
      "100%|██████████| 1119/1119 [03:36<00:00,  5.17it/s]\n",
      "100%|██████████| 1071/1071 [03:43<00:00,  4.79it/s]\n",
      "100%|██████████| 1047/1047 [03:34<00:00,  4.88it/s]\n",
      "100%|██████████| 1141/1141 [04:00<00:00,  4.75it/s]\n",
      "100%|██████████| 1017/1017 [03:22<00:00,  5.03it/s]\n",
      "100%|██████████| 1014/1014 [03:30<00:00,  4.81it/s]\n",
      "100%|██████████| 1129/1129 [03:34<00:00,  5.25it/s]\n"
     ]
    }
   ],
   "source": [
    "models = []\n",
    "for label, wav in train_loader.items():\n",
    "  input = np.array([])\n",
    "  for data in tqdm(wav):\n",
    "    feature = get_mfcc_feature(data)\n",
    "    if len(input) == 0:\n",
    "      input = feature\n",
    "    else:\n",
    "      input = np.append(input, feature, axis=0)\n",
    "  \n",
    "  model = hmm.GaussianHMM(n_components=4, covariance_type='diag', n_iter=1000)\n",
    "  model.fit(input)\n",
    "  models.append((model, label))"
   ]
  },
  {
   "cell_type": "code",
   "execution_count": null,
   "metadata": {
    "colab": {
     "base_uri": "https://localhost:8080/"
    },
    "id": "RamrII2Uu9bd",
    "outputId": "fcb8a500-80f2-4956-8a41-34c953b8910d"
   },
   "outputs": [
    {
     "data": {
      "text/plain": [
       "8559"
      ]
     },
     "execution_count": 13,
     "metadata": {},
     "output_type": "execute_result"
    }
   ],
   "source": [
    "len(train)"
   ]
  },
  {
   "cell_type": "code",
   "execution_count": null,
   "metadata": {
    "colab": {
     "base_uri": "https://localhost:8080/"
    },
    "id": "Icoc7WeuN83Q",
    "outputId": "6b04fc20-0a8e-4316-c325-b6118cdcb5e8"
   },
   "outputs": [
    {
     "name": "stderr",
     "output_type": "stream",
     "text": [
      "100%|██████████| 2140/2140 [04:14<00:00,  8.42it/s]"
     ]
    },
    {
     "name": "stdout",
     "output_type": "stream",
     "text": [
      "2140 1861\n",
      "0.8696261682242991\n"
     ]
    },
    {
     "name": "stderr",
     "output_type": "stream",
     "text": [
      "\n"
     ]
    }
   ],
   "source": [
    "count = 0\n",
    "true = 0 \n",
    "for wav, l in tqdm(test):\n",
    "  count += 1\n",
    "  max_score = -float('inf')\n",
    "  predicted_label = \"\"\n",
    "  feature = get_mfcc_feature(wav)\n",
    "  for item in models:\n",
    "    model, label = item\n",
    "    score = model.score(feature)\n",
    "    if score > max_score:\n",
    "      max_score = score\n",
    "      predicted_label = label\n",
    "\n",
    "  if predicted_label == l:\n",
    "    true += 1\n",
    "    \n",
    "print(count, true)\n",
    "print(true / count)"
   ]
  },
  {
   "cell_type": "code",
   "execution_count": null,
   "metadata": {
    "id": "6LSKlSmVaI3Q"
   },
   "outputs": [],
   "source": [
    "import pickle\n",
    "save_path = '/content/drive/MyDrive/saved_hmm'\n",
    "for item in models:\n",
    "  model, label = item\n",
    "  save_file = os.path.join(save_path, label + '.pkl')\n",
    "  with open(save_file, \"wb\") as f: pickle.dump(model, f)"
   ]
  },
  {
   "cell_type": "code",
   "execution_count": null,
   "metadata": {
    "colab": {
     "base_uri": "https://localhost:8080/",
     "height": 35
    },
    "id": "RFW-8hX0b9of",
    "outputId": "593dccf1-f8cb-43c4-f247-5cd6be57bb31"
   },
   "outputs": [
    {
     "data": {
      "application/vnd.google.colaboratory.intrinsic+json": {
       "type": "string"
      },
      "text/plain": [
       "'viterbi'"
      ]
     },
     "execution_count": 16,
     "metadata": {},
     "output_type": "execute_result"
    }
   ],
   "source": [
    "model."
   ]
  },
  {
   "cell_type": "code",
   "execution_count": null,
   "metadata": {
    "colab": {
     "base_uri": "https://localhost:8080/"
    },
    "id": "fZuQqH-4b_pt",
    "outputId": "e0f868ea-b37a-4e04-b211-ae0e56ea7bb8"
   },
   "outputs": [
    {
     "name": "stdout",
     "output_type": "stream",
     "text": [
      "Collecting tslearn\n",
      "  Downloading tslearn-0.5.2-cp37-cp37m-manylinux_2_5_x86_64.manylinux1_x86_64.manylinux_2_12_x86_64.manylinux2010_x86_64.whl (793 kB)\n",
      "\u001b[?25l\r",
      "\u001b[K     |▍                               | 10 kB 28.2 MB/s eta 0:00:01\r",
      "\u001b[K     |▉                               | 20 kB 37.5 MB/s eta 0:00:01\r",
      "\u001b[K     |█▎                              | 30 kB 41.9 MB/s eta 0:00:01\r",
      "\u001b[K     |█▋                              | 40 kB 11.2 MB/s eta 0:00:01\r",
      "\u001b[K     |██                              | 51 kB 10.4 MB/s eta 0:00:01\r",
      "\u001b[K     |██▌                             | 61 kB 12.0 MB/s eta 0:00:01\r",
      "\u001b[K     |███                             | 71 kB 10.5 MB/s eta 0:00:01\r",
      "\u001b[K     |███▎                            | 81 kB 11.7 MB/s eta 0:00:01\r",
      "\u001b[K     |███▊                            | 92 kB 13.0 MB/s eta 0:00:01\r",
      "\u001b[K     |████▏                           | 102 kB 11.1 MB/s eta 0:00:01\r",
      "\u001b[K     |████▌                           | 112 kB 11.1 MB/s eta 0:00:01\r",
      "\u001b[K     |█████                           | 122 kB 11.1 MB/s eta 0:00:01\r",
      "\u001b[K     |█████▍                          | 133 kB 11.1 MB/s eta 0:00:01\r",
      "\u001b[K     |█████▉                          | 143 kB 11.1 MB/s eta 0:00:01\r",
      "\u001b[K     |██████▏                         | 153 kB 11.1 MB/s eta 0:00:01\r",
      "\u001b[K     |██████▋                         | 163 kB 11.1 MB/s eta 0:00:01\r",
      "\u001b[K     |███████                         | 174 kB 11.1 MB/s eta 0:00:01\r",
      "\u001b[K     |███████▍                        | 184 kB 11.1 MB/s eta 0:00:01\r",
      "\u001b[K     |███████▉                        | 194 kB 11.1 MB/s eta 0:00:01\r",
      "\u001b[K     |████████▎                       | 204 kB 11.1 MB/s eta 0:00:01\r",
      "\u001b[K     |████████▊                       | 215 kB 11.1 MB/s eta 0:00:01\r",
      "\u001b[K     |█████████                       | 225 kB 11.1 MB/s eta 0:00:01\r",
      "\u001b[K     |█████████▌                      | 235 kB 11.1 MB/s eta 0:00:01\r",
      "\u001b[K     |██████████                      | 245 kB 11.1 MB/s eta 0:00:01\r",
      "\u001b[K     |██████████▎                     | 256 kB 11.1 MB/s eta 0:00:01\r",
      "\u001b[K     |██████████▊                     | 266 kB 11.1 MB/s eta 0:00:01\r",
      "\u001b[K     |███████████▏                    | 276 kB 11.1 MB/s eta 0:00:01\r",
      "\u001b[K     |███████████▋                    | 286 kB 11.1 MB/s eta 0:00:01\r",
      "\u001b[K     |████████████                    | 296 kB 11.1 MB/s eta 0:00:01\r",
      "\u001b[K     |████████████▍                   | 307 kB 11.1 MB/s eta 0:00:01\r",
      "\u001b[K     |████████████▉                   | 317 kB 11.1 MB/s eta 0:00:01\r",
      "\u001b[K     |█████████████▏                  | 327 kB 11.1 MB/s eta 0:00:01\r",
      "\u001b[K     |█████████████▋                  | 337 kB 11.1 MB/s eta 0:00:01\r",
      "\u001b[K     |██████████████                  | 348 kB 11.1 MB/s eta 0:00:01\r",
      "\u001b[K     |██████████████▌                 | 358 kB 11.1 MB/s eta 0:00:01\r",
      "\u001b[K     |██████████████▉                 | 368 kB 11.1 MB/s eta 0:00:01\r",
      "\u001b[K     |███████████████▎                | 378 kB 11.1 MB/s eta 0:00:01\r",
      "\u001b[K     |███████████████▊                | 389 kB 11.1 MB/s eta 0:00:01\r",
      "\u001b[K     |████████████████▏               | 399 kB 11.1 MB/s eta 0:00:01\r",
      "\u001b[K     |████████████████▌               | 409 kB 11.1 MB/s eta 0:00:01\r",
      "\u001b[K     |█████████████████               | 419 kB 11.1 MB/s eta 0:00:01\r",
      "\u001b[K     |█████████████████▍              | 430 kB 11.1 MB/s eta 0:00:01\r",
      "\u001b[K     |█████████████████▊              | 440 kB 11.1 MB/s eta 0:00:01\r",
      "\u001b[K     |██████████████████▏             | 450 kB 11.1 MB/s eta 0:00:01\r",
      "\u001b[K     |██████████████████▋             | 460 kB 11.1 MB/s eta 0:00:01\r",
      "\u001b[K     |███████████████████             | 471 kB 11.1 MB/s eta 0:00:01\r",
      "\u001b[K     |███████████████████▍            | 481 kB 11.1 MB/s eta 0:00:01\r",
      "\u001b[K     |███████████████████▉            | 491 kB 11.1 MB/s eta 0:00:01\r",
      "\u001b[K     |████████████████████▎           | 501 kB 11.1 MB/s eta 0:00:01\r",
      "\u001b[K     |████████████████████▋           | 512 kB 11.1 MB/s eta 0:00:01\r",
      "\u001b[K     |█████████████████████           | 522 kB 11.1 MB/s eta 0:00:01\r",
      "\u001b[K     |█████████████████████▌          | 532 kB 11.1 MB/s eta 0:00:01\r",
      "\u001b[K     |██████████████████████          | 542 kB 11.1 MB/s eta 0:00:01\r",
      "\u001b[K     |██████████████████████▎         | 552 kB 11.1 MB/s eta 0:00:01\r",
      "\u001b[K     |██████████████████████▊         | 563 kB 11.1 MB/s eta 0:00:01\r",
      "\u001b[K     |███████████████████████▏        | 573 kB 11.1 MB/s eta 0:00:01\r",
      "\u001b[K     |███████████████████████▌        | 583 kB 11.1 MB/s eta 0:00:01\r",
      "\u001b[K     |████████████████████████        | 593 kB 11.1 MB/s eta 0:00:01\r",
      "\u001b[K     |████████████████████████▍       | 604 kB 11.1 MB/s eta 0:00:01\r",
      "\u001b[K     |████████████████████████▉       | 614 kB 11.1 MB/s eta 0:00:01\r",
      "\u001b[K     |█████████████████████████▏      | 624 kB 11.1 MB/s eta 0:00:01\r",
      "\u001b[K     |█████████████████████████▋      | 634 kB 11.1 MB/s eta 0:00:01\r",
      "\u001b[K     |██████████████████████████      | 645 kB 11.1 MB/s eta 0:00:01\r",
      "\u001b[K     |██████████████████████████▍     | 655 kB 11.1 MB/s eta 0:00:01\r",
      "\u001b[K     |██████████████████████████▉     | 665 kB 11.1 MB/s eta 0:00:01\r",
      "\u001b[K     |███████████████████████████▎    | 675 kB 11.1 MB/s eta 0:00:01\r",
      "\u001b[K     |███████████████████████████▊    | 686 kB 11.1 MB/s eta 0:00:01\r",
      "\u001b[K     |████████████████████████████    | 696 kB 11.1 MB/s eta 0:00:01\r",
      "\u001b[K     |████████████████████████████▌   | 706 kB 11.1 MB/s eta 0:00:01\r",
      "\u001b[K     |█████████████████████████████   | 716 kB 11.1 MB/s eta 0:00:01\r",
      "\u001b[K     |█████████████████████████████▍  | 727 kB 11.1 MB/s eta 0:00:01\r",
      "\u001b[K     |█████████████████████████████▊  | 737 kB 11.1 MB/s eta 0:00:01\r",
      "\u001b[K     |██████████████████████████████▏ | 747 kB 11.1 MB/s eta 0:00:01\r",
      "\u001b[K     |██████████████████████████████▋ | 757 kB 11.1 MB/s eta 0:00:01\r",
      "\u001b[K     |███████████████████████████████ | 768 kB 11.1 MB/s eta 0:00:01\r",
      "\u001b[K     |███████████████████████████████▍| 778 kB 11.1 MB/s eta 0:00:01\r",
      "\u001b[K     |███████████████████████████████▉| 788 kB 11.1 MB/s eta 0:00:01\r",
      "\u001b[K     |████████████████████████████████| 793 kB 11.1 MB/s \n",
      "\u001b[?25hRequirement already satisfied: Cython in /usr/local/lib/python3.7/dist-packages (from tslearn) (0.29.28)\n",
      "Requirement already satisfied: numpy in /usr/local/lib/python3.7/dist-packages (from tslearn) (1.21.6)\n",
      "Requirement already satisfied: joblib in /usr/local/lib/python3.7/dist-packages (from tslearn) (1.1.0)\n",
      "Requirement already satisfied: scikit-learn in /usr/local/lib/python3.7/dist-packages (from tslearn) (1.0.2)\n",
      "Requirement already satisfied: numba in /usr/local/lib/python3.7/dist-packages (from tslearn) (0.51.2)\n",
      "Requirement already satisfied: scipy in /usr/local/lib/python3.7/dist-packages (from tslearn) (1.4.1)\n",
      "Requirement already satisfied: llvmlite<0.35,>=0.34.0.dev0 in /usr/local/lib/python3.7/dist-packages (from numba->tslearn) (0.34.0)\n",
      "Requirement already satisfied: setuptools in /usr/local/lib/python3.7/dist-packages (from numba->tslearn) (57.4.0)\n",
      "Requirement already satisfied: threadpoolctl>=2.0.0 in /usr/local/lib/python3.7/dist-packages (from scikit-learn->tslearn) (3.1.0)\n",
      "Installing collected packages: tslearn\n",
      "Successfully installed tslearn-0.5.2\n"
     ]
    }
   ],
   "source": [
    "!pip install tslearn"
   ]
  },
  {
   "cell_type": "code",
   "execution_count": null,
   "metadata": {
    "colab": {
     "base_uri": "https://localhost:8080/"
    },
    "id": "xdswIdsUd7NK",
    "outputId": "7c5856bd-0e8d-4b60-8437-3668f8ee23ba"
   },
   "outputs": [
    {
     "data": {
      "text/plain": [
       "(50, 32, 1)"
      ]
     },
     "execution_count": 3,
     "metadata": {},
     "output_type": "execute_result"
    }
   ],
   "source": [
    "from tslearn.generators import random_walks\n",
    "from tslearn.utils import to_time_series_dataset\n",
    "x = random_walks(n_ts=50, sz=32)\n",
    "x.shape"
   ]
  },
  {
   "cell_type": "code",
   "execution_count": null,
   "metadata": {
    "colab": {
     "base_uri": "https://localhost:8080/"
    },
    "id": "4GpW1w6FeJIB",
    "outputId": "6d2ee489-3dea-40e3-ec34-858bdf3dd15e"
   },
   "outputs": [
    {
     "data": {
      "text/plain": [
       "('/content/drive/MyDrive/data/minh/a/file62.wav',\n",
       " '/content/drive/MyDrive/data/minh/a/file106.wav',\n",
       " '/content/drive/MyDrive/data/Long/a/file118.wav')"
      ]
     },
     "execution_count": 13,
     "metadata": {},
     "output_type": "execute_result"
    }
   ],
   "source": [
    "command = 'a'\n",
    "data1, data2, data3 = train_loader[command][:3]\n",
    "data1, data2, data3"
   ]
  },
  {
   "cell_type": "code",
   "execution_count": null,
   "metadata": {
    "id": "ShVtBw_Vhtvv"
   },
   "outputs": [],
   "source": [
    "y1, sr1 = librosa.load(data1)\n",
    "y2, sr2 = librosa.load(data2)\n",
    "y3, sr3 = librosa.load(data3)\n",
    "\n",
    "mfcc1   = librosa.feature.mfcc(y=y1)\n",
    "delta1  = librosa.feature.delta(mfcc1)\n",
    "delta21 = librosa.feature.delta(mfcc1, order=2)\n",
    "\n",
    "mfcc2   = librosa.feature.mfcc(y=y2)\n",
    "delta2  = librosa.feature.delta(mfcc2)\n",
    "delta22 = librosa.feature.delta(mfcc2, order=2)\n",
    "\n",
    "mfcc3   = librosa.feature.mfcc(y=y3)\n",
    "delta3  = librosa.feature.delta(mfcc3)\n",
    "delta23 = librosa.feature.delta(mfcc3, order=2)"
   ]
  },
  {
   "cell_type": "code",
   "execution_count": null,
   "metadata": {
    "id": "0vvGJk31iBpu"
   },
   "outputs": [],
   "source": [
    "ft1 = np.concatenate((mfcc1, delta1, delta21))\n",
    "ft2 = np.concatenate((mfcc2, delta2, delta22))\n",
    "ft3 = np.concatenate((mfcc3, delta3, delta23))"
   ]
  },
  {
   "cell_type": "code",
   "execution_count": null,
   "metadata": {
    "colab": {
     "base_uri": "https://localhost:8080/"
    },
    "id": "TJmVyMkIiEV9",
    "outputId": "870529eb-ce71-4474-92f5-a4e5b9620df3"
   },
   "outputs": [
    {
     "data": {
      "text/plain": [
       "((60, 27), (60, 23), (60, 12))"
      ]
     },
     "execution_count": 16,
     "metadata": {},
     "output_type": "execute_result"
    }
   ],
   "source": [
    "ft1.shape, ft2.shape, ft3.shape"
   ]
  },
  {
   "cell_type": "code",
   "execution_count": null,
   "metadata": {
    "colab": {
     "base_uri": "https://localhost:8080/"
    },
    "id": "nF1_gx7niHYC",
    "outputId": "351d6ba1-989a-4b75-ee6a-166369b54eb2"
   },
   "outputs": [
    {
     "data": {
      "text/plain": [
       "(20, 27)"
      ]
     },
     "execution_count": 17,
     "metadata": {},
     "output_type": "execute_result"
    }
   ],
   "source": [
    "mfcc1.shape"
   ]
  },
  {
   "cell_type": "code",
   "execution_count": null,
   "metadata": {
    "id": "7j3T3DLviLOs"
   },
   "outputs": [],
   "source": []
  }
 ],
 "metadata": {
  "colab": {
   "collapsed_sections": [],
   "name": "hmm.ipynb",
   "provenance": []
  },
  "kernelspec": {
   "display_name": "Python 3",
   "language": "python",
   "name": "python3"
  },
  "language_info": {
   "codemirror_mode": {
    "name": "ipython",
    "version": 3
   },
   "file_extension": ".py",
   "mimetype": "text/x-python",
   "name": "python",
   "nbconvert_exporter": "python",
   "pygments_lexer": "ipython3",
   "version": "3.7.10"
  }
 },
 "nbformat": 4,
 "nbformat_minor": 1
}
